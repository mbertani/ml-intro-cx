{
 "cells": [
  {
   "cell_type": "markdown",
   "metadata": {},
   "source": [
    "# Introductory workshop Machine Learning: Data cleaning\n",
    "Welcome to this introductory workshop to machine learning.\n",
    "\n",
    "During this workshop you will learn:\n",
    " - How to explore your data \n",
    " - How to clean your data \n",
    " - How to create a machine learning model to predict if a bus is delayed, on time.\n",
    " \n",
    " \n",
    " \n",
    " Raw dataset directly from Kolumbus. Not processed in any way\n",
    " \n",
    " \n",
    "You will work with the following data:\n",
    "\n",
    "| Navn | Beskrivelse | Eksempel |\n",
    "|----|:-----------|:--------|\n",
    "| Delay |Total forsinkelse i sekunder i forhold til rutetabellen. <br>Negativ delay vil si at busse er foran rutetabellen og motsatt. Denne delayen kommer fra sanntidssystem til Kolumbus.<br> Delayet tar hensyn til hvordan bussen ligger an på ruten (selv mellom stopp) og oppdateres kontinuerlig.<br>Delay=-25 vil si at bussen er 25 sekunder foran rutetabellen akuratt der den er nå. Hvordan denne variablen er regnet ut er en del av forretningshemmeligheten til de som leverer sanntidssystemet. Kolumbus sier den skal være nøyaktig og bruker all tilgjengelige data i utregningen. | -25.0 |\n",
    "\n",
    "Line\tLine er det korte navnet på en rute (det som står på bussen). Oslo-Stavanger og Stavanger-Oslo kan begge være Line 7\t8\n",
    "LineID\tLineID er en rute. Oslo-Stavanger og Stavanger-Oslo har forskjellig LineID men samme Line. Merk at to elementer med samme LineId ikke alltid kjører 100% samme rute\t3022\n",
    "TripID\tTripID er en konkret avgang. Oslo-Stavanger klokka 15:00 har en unik TripID men samme LineID som Oslo-Stavanger 16:00. En TripID blir kun brukt en gang per dag.\t30222006\n",
    "DirectionRef\tDette er en binær variablene som er enten ’go’ eller ’back’. Oslo – Stavanger vs. Stavanger – Oslo\t'go'\n",
    "TripHeadsign\tDet som står foran på bussen\t'Tasta - Vardeneset – Randaberg'\n",
    "DestinationAimedArrivalTime\tNår bussen skal være på endestoppet av den nåværende ruten\t2017-03-06 00:19:00\n",
    "DestinationTerminalCode\tID-en til siste stopp. Hvert stopp har en unik ID, men ikke nødvendigvis unikt navn. To stopp på hver side av veien har ofte det samme navnet, men ulik ID\t11275943\n",
    "To\tNavnet på ende-destinasjonen (Ikke nødvendigvis navnet endestoppet)\t'Randaberg sentrum'\n",
    "OriginAimedDepartureTime\tNår bussen kjører fra startstoppet\t2017-03-05 23:44:00\n",
    "OriginStopTerminalCode\tID-en på første stoppet\t11034315\n",
    "From\tStart-destinasjonen (Ikke nødvendigvis navnet på startstoppet)\t'Stavanger hpl. 25'\n",
    "DistanceBetweenStops\tMeter igjen til det neste stoppet. Tror denne er ganske nøyaktig og tar hensyn til faktiske ruten, ikke luftlinje\t20.0\n",
    "PercentageBetweenStops\tKnyttet sammen med distancebetweenstops. Hvor langt bussen har kommet på ruten. Ved PercentageBetweenStops=0 er bussen på forrige stop og PercentageBetweenStops=100 er den på neste stopp\t5.0\n",
    "Heading\tRotasjon i grader. heading=0 er rett nord\t-80.2347288919\n",
    "Latitude\tKartkoordinater\t58.98848\n",
    "Longitude\tKartkoordinater\t5.673485\n",
    "NextStop\tNavnet på neste stopp. Flere stopp kan ha samme navn, f.eks på hver side av veien\t'Eskelandstunet'\n",
    "NextStopCode\tAlle stoppestedene har unike ID-er. To stopp på hver side av veien kan ha samme navn men vil alltid ha en unik ID. F. eks id for Eskelandstunet.\t11031438\n",
    "RecordedAtTime\tKlokkeslett bussen sendte ut den gjeldene raden. Denne raden kan brukes sammen med OriginAimedDepartureTime og DestinationAimedArrivalTime til å finne progresjonen på ruta i \n",
    "\t78.4"
   ]
  },
  {
   "cell_type": "code",
   "execution_count": null,
   "metadata": {},
   "outputs": [],
   "source": [
    "import read_json\n",
    "import pandas as pd\n",
    "from test_dataCleaner import TestDataCleaner\n",
    "cleaner = TestDataCleaner()\n",
    "frame = read_json.get_dataframe()"
   ]
  },
  {
   "cell_type": "markdown",
   "metadata": {},
   "source": [
    "# Inspecting the data\n",
    "Below is a snippet of the data recived from Kolumbus. \n",
    "\n",
    "As you can see, the data contains a great deal of missing values, NaN. "
   ]
  },
  {
   "cell_type": "code",
   "execution_count": null,
   "metadata": {},
   "outputs": [],
   "source": [
    "frame.head(5)"
   ]
  },
  {
   "cell_type": "markdown",
   "metadata": {},
   "source": [
    "# Dealing with empty fields\n",
    "Most of the real time data from Kolumbus have missing route information. \n",
    "\n",
    "Buses that are not in service continue to transmit their location. \n",
    "\n",
    "Another issue is that the bus driver has to manually enter which route he or she is driving. This leads to problems where active buses are not tied to a route or tied to the the wrong route. \n",
    "\n",
    "\n",
    "The first task is to remove all rows with missing route information. \n"
   ]
  },
  {
   "cell_type": "code",
   "execution_count": null,
   "metadata": {},
   "outputs": [],
   "source": [
    "columns = [] # The columns listed here are required to have a value or the entire row is removed columns = ['column_1','column_2','column_2']\n",
    "columns = ['DestinationAimedArrivalTime','OriginAimedDepartureTime','Delay','TripId'] # CORRECT ANSWER, TO BE REMOVED\n",
    "\n",
    "test_frame = frame.dropna(subset=columns) \n",
    "\n",
    "cleaner.remove_null_rows(test_frame)"
   ]
  },
  {
   "cell_type": "code",
   "execution_count": null,
   "metadata": {},
   "outputs": [],
   "source": [
    "frame = test_frame\n",
    "\n",
    "frame['RecordedAtTime'] = frame['RecordedAtTime'].astype('datetime64[ns]')\n",
    "frame['OriginAimedDepartureTime'] = frame['OriginAimedDepartureTime'].astype('datetime64[ns]')\n",
    "frame['DestinationAimedArrivalTime'] = frame['DestinationAimedArrivalTime'].astype('datetime64[ns]')"
   ]
  },
  {
   "cell_type": "markdown",
   "metadata": {},
   "source": [
    "# Inspecting the data II\n",
    "With most of the missing values now removed, we can take a better look at the data and all the available fields."
   ]
  },
  {
   "cell_type": "code",
   "execution_count": null,
   "metadata": {},
   "outputs": [],
   "source": [
    "frame.head(5)"
   ]
  },
  {
   "cell_type": "code",
   "execution_count": null,
   "metadata": {},
   "outputs": [],
   "source": [
    "frame[['Longitude','Latitude']].describe(include='all')"
   ]
  },
  {
   "cell_type": "markdown",
   "metadata": {},
   "source": [
    "# Duplicate rows\n",
    "\n",
    "The real time transit system is updated about every second. The buses however, only updates their position a couple of times a minute. The data we recived form Kolumbus therfore contains a great deal of duplicates as the previous update is repteated until a new one is recived. \n",
    "\n",
    "\n",
    "Removes every duplicated row where every value in the specified columns are the same\n",
    "\n",
    "            What might be used to identify a duplicated row? Ask yourself:\n",
    "            * Can there be several messages sent at the same time?\n",
    "            * Can buses leave or arrive at the same time?\n",
    "            * Could they be at the same place at the same time?\n",
    "            * How specific do you need to be with line, lineId or TripID?"
   ]
  },
  {
   "cell_type": "markdown",
   "metadata": {},
   "source": [
    "#### Example\n",
    "Study the the updates from the bus below. Notice any similarities?"
   ]
  },
  {
   "cell_type": "code",
   "execution_count": null,
   "metadata": {},
   "outputs": [],
   "source": [
    "frame[frame['TripId'] == '10061098'].head(3) "
   ]
  },
  {
   "cell_type": "code",
   "execution_count": null,
   "metadata": {},
   "outputs": [],
   "source": [
    "columns = ['column_1', 'column_2', 'column_3'] # Removes all duplicate rows were 'column_1', 'column_2', 'column_3' have identical values. columns = ['column_1', 'column_2', 'column_3'] \n",
    "columns = ['RecordedAtTime', 'TripId'] # CORRECT ANSWER, TO BE REMOVED\n",
    "\n",
    "test_frame = frame.drop_duplicates(columns)\n",
    "cleaner.remove_duplicate_entries(test_frame)"
   ]
  },
  {
   "cell_type": "code",
   "execution_count": null,
   "metadata": {},
   "outputs": [],
   "source": [
    "frame = test_frame"
   ]
  },
  {
   "cell_type": "markdown",
   "metadata": {},
   "source": [
    "# Drop redundant, duplicate and hard coded columns\n",
    "\n",
    "\n",
    "\n",
    "* Columns with hard coded values. Every row\n",
    "* Redundant columns.\n",
    "* Columns with missing values"
   ]
  },
  {
   "cell_type": "code",
   "execution_count": null,
   "metadata": {},
   "outputs": [],
   "source": [
    "frame.head(10)"
   ]
  },
  {
   "cell_type": "code",
   "execution_count": null,
   "metadata": {},
   "outputs": [],
   "source": [
    "frame[['Delay']].describe(include='all')"
   ]
  },
  {
   "cell_type": "code",
   "execution_count": null,
   "metadata": {},
   "outputs": [],
   "source": [
    "frame['Line'].value_counts().head(20)"
   ]
  },
  {
   "cell_type": "markdown",
   "metadata": {},
   "source": [
    "### Columns with one repeating value\n",
    "\n",
    "As you might have noticed, some of the columns in the Kolumbus data one repating value for all rows.\n",
    "Find these columns and remove them.\n"
   ]
  },
  {
   "cell_type": "code",
   "execution_count": null,
   "metadata": {},
   "outputs": [],
   "source": [
    "columns = [] # Removes the columns listed here. \n",
    "columns = ['NextStopVisitNumber', 'VehicleModes'] # CORRECT ANSWER, TO BE REMOVED\n",
    "\n",
    "test_frame = frame.drop(columns,1)\n",
    "cleaner.remove_hard_coded_columns(test_frame)"
   ]
  },
  {
   "cell_type": "code",
   "execution_count": null,
   "metadata": {},
   "outputs": [],
   "source": [
    "frame = test_frame"
   ]
  },
  {
   "cell_type": "markdown",
   "metadata": {},
   "source": [
    "### Columns with missing rows\n",
    "\n",
    "Some of the columns does still contain rows with missing data (NaN). In this case, these columns are not important and should be removed\n",
    "Your next task is to find these columns and remove them."
   ]
  },
  {
   "cell_type": "code",
   "execution_count": null,
   "metadata": {},
   "outputs": [],
   "source": [
    "columns = [] # Removes the columns listed here. \n",
    "columns = ['Heading','IsMonitored','TripHeadsign'] # CORRECT ANSWER, TO BE REMOVED\n",
    "\n",
    "test_frame = frame.drop(columns,1) # CORRECT ANSWER, TO BE REMOVED\n",
    "cleaner.remove_columns_with_null_values(test_frame)"
   ]
  },
  {
   "cell_type": "code",
   "execution_count": null,
   "metadata": {},
   "outputs": [],
   "source": [
    "frame = test_frame"
   ]
  },
  {
   "cell_type": "markdown",
   "metadata": {},
   "source": [
    "### Redundant columns\n",
    "\n",
    "One columns might contain the same information as others. This is also the case for this dataset. \n",
    "\n",
    "Use the tools. Keep the columns that are most similar to the rest of the data.\n"
   ]
  },
  {
   "cell_type": "code",
   "execution_count": null,
   "metadata": {},
   "outputs": [],
   "source": [
    "columns = ['column_1',] # Removes all duplicate rows were 'column_1', 'column_2', 'column_3' have identical values\n",
    "columns = ['Position'] # CORRECT ANSWER, TO BE REMOVED\n",
    "\n",
    "test_frame = frame.drop(columns,1)\n",
    "cleaner.remove_hard_coded_columns(test_frame)"
   ]
  },
  {
   "cell_type": "code",
   "execution_count": null,
   "metadata": {},
   "outputs": [],
   "source": [
    "frame = test_frame"
   ]
  },
  {
   "cell_type": "markdown",
   "metadata": {},
   "source": [
    "# Outliers\n",
    "\n",
    "Removes outliers and data missing certain values. Poor data quality as input results in poor predictions as output \n",
    "\n",
    "Hints: You have data from one day, or do you?\n",
    "     All bus routes should be in the [Rogaland area](https://www.google.com/maps/place/Rogaland/@58.9350028,5.2741278,9z/data=!3m1!4b1!4m5!3m4!1s0x463a353f2adcd70b:0xe0061cba0b0cc0bc!8m2!3d59.1489544!4d6.0143432), but sometimes the GPS freaks out..\n",
    "     \n",
    "Study the Delay column and decide on a resonalbe range. A large delay might indicate engine trouble or other abnormalities, make sure to remove it!\n",
    "\n",
    "   Rember that a _positive_ 'Delay' is the number of seconds _behind_ schedule. I.e A bus with Delay=600 is 10 minutes behind schedule\n",
    "     \n",
    "     \n",
    "     However, if the bus is way ahead of schedule, that's not right either.\n",
    "                    What's the distance between two stops anyway?\n",
    "                    If a bus is driving towards its first station, that should not be counted as it being early."
   ]
  },
  {
   "cell_type": "code",
   "execution_count": null,
   "metadata": {},
   "outputs": [],
   "source": [
    "\n",
    "\n",
    "frame = frame[(frame['OriginAimedDepartureTime'] < frame['DestinationAimedArrivalTime'])]"
   ]
  },
  {
   "cell_type": "code",
   "execution_count": null,
   "metadata": {},
   "outputs": [],
   "source": []
  },
  {
   "cell_type": "code",
   "execution_count": null,
   "metadata": {},
   "outputs": [],
   "source": [
    "(frame['Latitude'] > 61).sum()\n",
    "(frame['Longitude'] > 7.3).sum()"
   ]
  },
  {
   "cell_type": "code",
   "execution_count": null,
   "metadata": {},
   "outputs": [],
   "source": [
    "frame['Delay'].describe()\n",
    "frame['RecordedAtTime'].describe()"
   ]
  },
  {
   "cell_type": "code",
   "execution_count": null,
   "metadata": {},
   "outputs": [],
   "source": [
    "frame = frame[frame['Delay'] > -1000]\n",
    "frame = frame[frame['column_1'] < 4000]"
   ]
  },
  {
   "cell_type": "code",
   "execution_count": null,
   "metadata": {},
   "outputs": [],
   "source": [
    "(frame[(frame['RecordedAtTime'] < frame['OriginAimedDepartureTime'])])"
   ]
  },
  {
   "cell_type": "code",
   "execution_count": null,
   "metadata": {},
   "outputs": [],
   "source": []
  }
 ],
 "metadata": {
  "kernelspec": {
   "display_name": "Python 3",
   "language": "python",
   "name": "python3"
  },
  "language_info": {
   "codemirror_mode": {
    "name": "ipython",
    "version": 3
   },
   "file_extension": ".py",
   "mimetype": "text/x-python",
   "name": "python",
   "nbconvert_exporter": "python",
   "pygments_lexer": "ipython3",
   "version": "3.6.5"
  }
 },
 "nbformat": 4,
 "nbformat_minor": 2
}
