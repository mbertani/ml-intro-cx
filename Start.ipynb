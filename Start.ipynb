{
 "cells": [
  {
   "cell_type": "markdown",
   "metadata": {},
   "source": [
    "# Introductory workshop Machine Learning: Data cleaning\n",
    "Welcome to this introductory workshop to machine learning.\n",
    "\n",
    "\n",
    "\n",
    "\n",
    "\n",
    "\n",
    "During this workshop you will learn:\n",
    " - How to explore your data \n",
    " - How to clean your data \n",
    " - How to create a machine learning model to predict if a bus is delayed, on time.\n",
    " \n",
    " \n",
    " \n",
    " Raw dataset directly from Kolumbus. Not processed in any way\n",
    " \n",
    " \n",
    "You will work with the following data:\n"
   ]
  },
  {
   "cell_type": "markdown",
   "metadata": {},
   "source": [
    "# The data\n",
    "![https://www.kolumbus.no/ruter/kart/sanntidskart/](media/sanntidskart.png) https://www.kolumbus.no/ruter/kart/sanntidskart/\n",
    "\n",
    "The data you will be working with in this workshop is real time bus data from the [Kolumbus](https://en.wikipedia.org/wiki/Kolumbus), the public transportation administration in Rogaland, Norway. \n",
    "\n",
    "Kolumbus visualizes this data in their real map: https://www.kolumbus.no/ruter/kart/sanntidskart/ *(As of june 2018, the delay is not visualized in the real time map as it is in the screenshot above. The buses should changed color depending on the delay)*\n",
    "\n",
    "\n",
    "Every time a bus moves results in one new row of data.  Each row consists of the buses position, schedules, route information and the degree of delay.\n",
    "\n",
    "\n",
    "\n",
    "## Columns\n",
    "| Name                        \t| Description                                                                                                                                                                                \t| Example                         \t|\n",
    "|-----------------------------\t|--------------------------------------------------------------------------------------------------------------------------------------------------------------------------------------------\t|----------------------------------\t|\n",
    "| Delay                       \t| The total delay in seconds. Denotes the number of seconds behind the current schedule. A negative delay means that the bus is ahead of schedule                                                                  \t| 60                                \t|\n",
    "| Line                        \t| Line is the human readable name of the current line. Oslo-Stavanger and Stavanger-Oslo can both be Line 7                                                                       \t| 8                                \t|\n",
    "| LineID                      \t| LineID identies a line. Oslo-Stavanger og Stavanger-Oslo have different LineIDs but the same Line. Take not that two buses with same LineId will may necessarily drive the same physical route                        \t| 3022                             \t|\n",
    "| TripID                      \t| TripID detones a spesific departue. Oslo-Stavanger leaving at 15:00 has a unique TripID but will have the same LineID as Oslo-Stavanger 16:00. Each TripID is only used once a day.                           \t| 30222006                         \t|\n",
    "| DirectionRef                \t| Binary variable eaither set to ’go’ or ’back’. Oslo – Stavanger vs. Stavanger – Oslo                                                                                         \t| 'go'                             \t|\n",
    "| TripHeadsign                \t| General area where the bus is headed. This the inforamtion that is displayed at the front of the bus                                                                                                                                                               \t| 'Tasta - Vardeneset – Randaberg' \t|\n",
    "| DestinationAimedArrivalTime \t| When the bus is supposed to arrive at the final destination                                                                                                                                \t| 2017-03-06 00:19:00              \t|\n",
    "| DestinationTerminalCode     \t| Id for the final stop of the trip.                             \t| 11275943                         \t|\n",
    "| To                          \t| Where the bus is headed. Not necessarily the name of the first stop                                                                                                                       \t| 'Randaberg sentrum'              \t|\n",
    "| OriginAimedDepartureTime    \t| When the bus is supposed to depart from the first station                                                                                                                                                       \t| 2017-03-05 23:44:00              \t|\n",
    "| OriginStopTerminalCode      \t| Id for the first stop                                                                                                                                                                    \t| 11034315                         \t|\n",
    "| From                        \t| The start location of the bus. Not necessarily the name of the first stop                                                                                                                           \t| 'Stavanger '              \t|\n",
    "| Position                   \t| The position stored as key value pair                                                                                                                                      \t| {'lat': 63.36706, 'lng': 10.37173}                             \t|\n",
    "| VehicleModes                        \t| The kind of vehicle. Bus, boat, plane?                                                                                                                    \t| [1]              \t|\n",
    "| DistanceBetweenStops        \t| Distance measured in meters to the next stop. Take into account the actuall road the bus has to travel                                                                         \t| 20.0                             \t|\n",
    "| PercentageBetweenStops      \t| How far the bus has travel on the path between the last stop and the next stop.  \t| 5.0                              \t|\n",
    "| Heading                     \t| Rotation of the bus in degrees. heading=0 is facing north                                                                                                                                                 \t| -80.2347288919                   \t|\n",
    "| IsMonitored                     \t| Is the bus monitored by the real itme system?                                                                                                                                                  \t| True                  \t|\n",
    "| Latitude                    \t| Coordinates                                                                                                                                                                            \t| 58.98848                         \t|\n",
    "| Longitude                   \t| Coordinates                                                                                                                                                                            \t| 5.673485                         \t|\n",
    "| NextStop                    \t| Human readable name of the next stop. Multiple stops may share the same name                                                                                                        \t| 'Eskelandstunet'                 \t|\n",
    "| NextStopCode                \t| Each bus stop has its own Id. Two stops at each side of the road may have the same name (column NextStop), but will alwasy have an unqie NextStopCode.                                          \t| 11031438                         \t|\n",
    "| RecordedAtTime              \t| Date and time when the row was recorded         \t| 2017-03-10 23:59:39              \t|\n",
    "| Id                   \t| Unique ID for each physical bus                                                                                                                                       \t| 2001                             \t|\n"
   ]
  },
  {
   "cell_type": "markdown",
   "metadata": {},
   "source": [
    "# Read Data\n",
    "\n",
    "The SIRI system writes one JSON file about every second. This file contains the positopn of every bus at Kolumbus disposale. As we will inspect shortly, most these buses are not active.\n",
    "\n",
    "For this workshop, we have sampled 263 such JSON files distriputed througout 11. March 2017.\n",
    "\n",
    "The Python code below reads these JSON files and assembles them to a single Pandas Dataframe for further processing. \n",
    "    * Open \"Running Code.ipynb\" if you are unfamiliar with Jupyter Notebooks and how to run code\n",
    "    \n",
    "The first thing we need to do is to unzip the data."
   ]
  },
  {
   "cell_type": "code",
   "execution_count": null,
   "metadata": {},
   "outputs": [],
   "source": [
    "import zipfile\n",
    "from pathlib import Path\n",
    "\n",
    "my_file = Path(\"data/random_one_day.zip\")\n",
    "if my_file.is_file():\n",
    "    with zipfile.ZipFile(\"data/random_one_day.zip\",\"r\") as zip_ref:\n",
    "        zip_ref.extractall(\"data\")\n",
    "    print(\"Done extracting the data!\")\n",
    "else:\n",
    "    print(\"You need to download\")"
   ]
  },
  {
   "cell_type": "code",
   "execution_count": null,
   "metadata": {},
   "outputs": [],
   "source": [
    "import read_json\n",
    "import pandas as pd\n",
    "from test_dataCleaner import TestDataCleaner\n",
    "cleaner = TestDataCleaner()\n",
    "frame = read_json.get_dataframe()\n",
    "\n",
    "print(\"Number of rows:\",len(frame))"
   ]
  },
  {
   "cell_type": "markdown",
   "metadata": {},
   "source": [
    "# Inspecting the data\n",
    "With the files imported, we can inspect the data.\n",
    "\n",
    "Below is a snippet of the raw data recived from Kolumbus. "
   ]
  },
  {
   "cell_type": "code",
   "execution_count": null,
   "metadata": {},
   "outputs": [],
   "source": [
    "frame.head(3) # Displays the first 3 lines of data"
   ]
  },
  {
   "cell_type": "markdown",
   "metadata": {},
   "source": [
    "As you can see, the data contains a great deal of missing values, NaN.\n",
    "\n",
    "# Dealing with empty fields\n",
    "Most of the real time data from Kolumbus have missing route information. \n",
    "\n",
    "Buses that are not in active service continue to transmit their location. These are not shown on the real time map\n",
    "\n",
    "Another issue is that the bus driver has to manually enter which route he or she is driving. This leads to problems where active buses are not tied to a route or tied to the the wrong route. These buses are displayed on the [Kolumbus real time map](https://www.kolumbus.no/ruter/kart/sanntidskart/) in grey\n",
    "\n",
    "\n",
    "We only want the buses that are activly driving on a route. The first task is to remove all rows with missing route information. \n"
   ]
  },
  {
   "cell_type": "code",
   "execution_count": null,
   "metadata": {},
   "outputs": [],
   "source": [
    "columns = [] # The columns listed here are required to have a value or the entire row is removed columns = ['column_1','column_2','column_2']\n",
    "columns = ['DestinationAimedArrivalTime','OriginAimedDepartureTime','Delay','TripId'] # CORRECT ANSWER, TO BE REMOVED\n",
    "\n",
    "test_frame = frame.dropna(subset=columns)\n",
    "print(\"Removed\",len(frame)-len(test_frame),\"rows with missing values\")\n",
    "\n",
    "cleaner.remove_null_rows(test_frame)"
   ]
  },
  {
   "cell_type": "code",
   "execution_count": null,
   "metadata": {},
   "outputs": [],
   "source": [
    "frame = test_frame # Do not run this cell until the test is passed."
   ]
  },
  {
   "cell_type": "markdown",
   "metadata": {},
   "source": [
    "# Inspecting the data II\n",
    "With most of the missing values now removed, we can take a better look at the data and all the available fields."
   ]
  },
  {
   "cell_type": "code",
   "execution_count": null,
   "metadata": {},
   "outputs": [],
   "source": [
    "frame.head(3) # Displays the first 3 lines of data"
   ]
  },
  {
   "cell_type": "code",
   "execution_count": null,
   "metadata": {},
   "outputs": [],
   "source": [
    "frame.tail(3) # Displayes that last 3 rows"
   ]
  },
  {
   "cell_type": "code",
   "execution_count": null,
   "metadata": {},
   "outputs": [],
   "source": [
    "frame[['Longitude','Latitude']].describe() # Use describe() to show usefull statstics about given columns. HINT: The max and min values are especially useful later on.."
   ]
  },
  {
   "cell_type": "markdown",
   "metadata": {},
   "source": [
    "# Duplicates\n",
    "\n",
    "Study the the updates from the bus line 5 below. Notice any similarities between the rows?\n"
   ]
  },
  {
   "cell_type": "code",
   "execution_count": null,
   "metadata": {},
   "outputs": [],
   "source": [
    "frame[frame['TripId'] == '10061098'].head(3) "
   ]
  },
  {
   "cell_type": "markdown",
   "metadata": {},
   "source": [
    "The real time transit system is updated about every second. The buses however, only updates their position a couple of times a minute. The data we recived form Kolumbus therfore contains a great deal of duplicates as the previous update is repteated until a new one is recived. \n",
    "\n",
    "\n",
    "Removes every duplicated row where every value in the specified columns are the same\n",
    "\n",
    "            What might be used to identify a duplicated row? Ask yourself:\n",
    "            * Can there be several messages sent at the same time from the same bus?\n",
    "            * Can buses leave or arrive at the same time?\n",
    "            * Could they be at the same place at the same time?\n",
    "            * How specific do you need to be with line, lineId or TripID?"
   ]
  },
  {
   "cell_type": "code",
   "execution_count": null,
   "metadata": {},
   "outputs": [],
   "source": [
    "columns = ['column_1', 'column_2', 'column_3'] # Removes all duplicate rows were 'column_1', 'column_2', 'column_3' have identical values. columns = ['column_1', 'column_2', 'column_3'] \n",
    "columns = ['RecordedAtTime', 'TripId'] # CORRECT ANSWER, TO BE REMOVED\n",
    "\n",
    "test_frame = frame.drop_duplicates(columns)\n",
    "\n",
    "print(\"Removed\",len(frame)-len(test_frame),\"duplicated rows\")\n",
    "cleaner.remove_duplicate_entries(test_frame)"
   ]
  },
  {
   "cell_type": "code",
   "execution_count": null,
   "metadata": {},
   "outputs": [],
   "source": [
    "frame = test_frame"
   ]
  },
  {
   "cell_type": "markdown",
   "metadata": {},
   "source": [
    "# Drop unwanted columns\n",
    "In this section, your task is to reduce the size of the data by removing columns we dont need. \n",
    "\n",
    "Below are some tools you should use to familiarize yourself more with the data"
   ]
  },
  {
   "cell_type": "code",
   "execution_count": null,
   "metadata": {},
   "outputs": [],
   "source": [
    "frame.head(10)"
   ]
  },
  {
   "cell_type": "code",
   "execution_count": null,
   "metadata": {},
   "outputs": [],
   "source": [
    "frame[['Delay']].describe(include='all')"
   ]
  },
  {
   "cell_type": "code",
   "execution_count": null,
   "metadata": {},
   "outputs": [],
   "source": [
    "frame['Line'].value_counts().head(20) # Lists every unique value for the given column and frequencies. .head(20) limits the list to 20 most frequently used"
   ]
  },
  {
   "cell_type": "markdown",
   "metadata": {},
   "source": [
    "### Columns with repeating value\n",
    "\n",
    "As you might have noticed, some of the columns in the Kolumbus data have a single repating value for all rows. Every row is identical and therfor no use for use. \n",
    "\n",
    "Find these columns and remove them."
   ]
  },
  {
   "cell_type": "code",
   "execution_count": null,
   "metadata": {},
   "outputs": [],
   "source": [
    "columns = [] # Removes the columns listed here. columns = ['column_1', 'column_2', 'column_3']\n",
    "columns = ['NextStopVisitNumber', 'VehicleModes'] # CORRECT ANSWER, TO BE REMOVED\n",
    "\n",
    "test_frame = frame.drop(columns,1)\n",
    "cleaner.remove_hard_coded_columns(test_frame)"
   ]
  },
  {
   "cell_type": "code",
   "execution_count": null,
   "metadata": {},
   "outputs": [],
   "source": [
    "frame = test_frame"
   ]
  },
  {
   "cell_type": "markdown",
   "metadata": {},
   "source": [
    "### Columns with missing rows\n",
    "\n",
    "Some of the columns does still contain rows with missing data (NaN). There is not one general solution on how to deal with such data. In some cases, the missing values can be raplaced with a known value or perhaps the previous ones. In this case, these columns are not important and should be removed."
   ]
  },
  {
   "cell_type": "code",
   "execution_count": null,
   "metadata": {},
   "outputs": [],
   "source": [
    "columns = [] # Removes the columns listed here. \n",
    "columns = ['Heading','IsMonitored','TripHeadsign'] # CORRECT ANSWER, TO BE REMOVED\n",
    "\n",
    "test_frame = frame.drop(columns,1) # CORRECT ANSWER, TO BE REMOVED\n",
    "cleaner.remove_columns_with_null_values(test_frame)"
   ]
  },
  {
   "cell_type": "code",
   "execution_count": null,
   "metadata": {},
   "outputs": [],
   "source": [
    "frame = test_frame"
   ]
  },
  {
   "cell_type": "markdown",
   "metadata": {},
   "source": [
    "### Redundant columns\n",
    "\n",
    "Multiple columns might contain similar or even identical information This is also the case for this dataset. \n",
    "\n",
    "Use the tools. Keep the columns that are most similar to the rest of the data as this is the most convinient."
   ]
  },
  {
   "cell_type": "code",
   "execution_count": null,
   "metadata": {},
   "outputs": [],
   "source": [
    "columns = [] # Removes all duplicate rows were 'column_1', 'column_2', 'column_3' have identical values\n",
    "#columns = ['Position'] # CORRECT ANSWER, TO BE REMOVED\n",
    "\n",
    "test_frame = frame.drop(columns,1)\n",
    "cleaner.remove_redundant_columns(test_frame)"
   ]
  },
  {
   "cell_type": "code",
   "execution_count": null,
   "metadata": {},
   "outputs": [],
   "source": [
    "frame = test_frame"
   ]
  },
  {
   "cell_type": "markdown",
   "metadata": {},
   "source": [
    "\n",
    "\n",
    "# Outliers\n",
    "\n",
    "From [Wikipedia](https://en.wikipedia.org/wiki/Outlier): \"In statistics, an outlier is an observation point that is distant from other observations\"\n",
    "\n",
    "Removes outliers and data missing certain values. Poor data quality as input results in poor predictions.\n"
   ]
  },
  {
   "cell_type": "code",
   "execution_count": null,
   "metadata": {},
   "outputs": [],
   "source": [
    "from datetime import datetime\n",
    "frame['RecordedAtTime'] = frame['RecordedAtTime'].astype('datetime64[ns]')\n",
    "frame['OriginAimedDepartureTime'] = frame['OriginAimedDepartureTime'].astype('datetime64[ns]')\n",
    "frame['DestinationAimedArrivalTime'] = frame['DestinationAimedArrivalTime'].astype('datetime64[ns]')\n",
    "test_frame = frame"
   ]
  },
  {
   "cell_type": "markdown",
   "metadata": {},
   "source": [
    "### Time\n",
    "\n",
    "You have data from 10. March 2017, or do you?\n",
    "Of the three columns related to time, are there some event that should always occur before others?"
   ]
  },
  {
   "cell_type": "code",
   "execution_count": null,
   "metadata": {},
   "outputs": [],
   "source": [
    "test_frame = test_frame[(test_frame['RecordedAtTime'] > datetime(1900, 1, 1))]\n",
    "test_frame = test_frame[(test_frame['OriginAimedDepartureTime'] < test_frame['DestinationAimedArrivalTime'])] # This should always be true, a bus cannot arrive before it departs. \n",
    "# Are the more similar scenarios related to time? \n",
    "\n",
    "test_frame = test_frame[(test_frame['RecordedAtTime'] > datetime(2017, 3, 1))] # CORRECT ANSWER, TO BE REMOVED\n",
    "test_frame = test_frame[(test_frame['RecordedAtTime'] < datetime(2017, 3, 20))] # CORRECT ANSWER, TO BE REMOVED\n",
    "test_frame = test_frame[(test_frame['OriginAimedDepartureTime'] < test_frame['RecordedAtTime'])] # CORRECT ANSWER, TO BE REMOVED"
   ]
  },
  {
   "cell_type": "markdown",
   "metadata": {},
   "source": [
    "### Delay\n",
    "\n",
    "Study the Delay column and decide on a reasonable range. \n",
    "\n",
    "    A large delay might indicate engine trouble or other abnormalities \n",
    "    Is it normal for a bus in service to be way ahead of schedule?\n",
    "\n",
    "Remember that a _positive_ 'Delay' is the number of seconds _behind_ schedule. I.e \n",
    "\n",
    "    A bus with delay=600 is 10 minutes BEHIND schedule\n",
    "    A bus with delay=-600 is 10 minutes AHEAD schedule"
   ]
  },
  {
   "cell_type": "code",
   "execution_count": null,
   "metadata": {},
   "outputs": [],
   "source": [
    "test_frame = test_frame[test_frame['Delay'] > -10000]\n",
    "test_frame = test_frame[test_frame['Delay'] < 10000]\n",
    "\n",
    "frame['Delay'].describe()\n",
    "\n",
    "\n",
    "test_frame = test_frame[test_frame['Delay'] > -1000] # CORRECT ANSWER, TO BE REMOVED\n",
    "test_frame = test_frame[test_frame['Delay'] < 1000] # CORRECT ANSWER, TO BE REMOVED"
   ]
  },
  {
   "cell_type": "markdown",
   "metadata": {},
   "source": [
    "### Position\n",
    "\n",
    "All bus routes should be in the [Rogaland area](https://www.google.com/maps/place/Rogaland/@58.9350028,5.2741278,9z/data=!3m1!4b1!4m5!3m4!1s0x463a353f2adcd70b:0xe0061cba0b0cc0bc!8m2!3d59.1489544!4d6.0143432), but sometimes the GPS freaks out.."
   ]
  },
  {
   "cell_type": "code",
   "execution_count": null,
   "metadata": {},
   "outputs": [],
   "source": [
    "test_frame = test_frame[test_frame['Latitude'] < 61] # CORRECT ANSWER, TO BE REMOVED\n",
    "test_frame = test_frame[test_frame['Longitude'] < 7.3] # CORRECT ANSWER, TO BE REMOVED\n",
    "test_frame = test_frame[test_frame['Longitude'] > 4.7] # CORRECT ANSWER, TO BE REMOVED\n",
    "\n",
    "test_frame = test_frame[test_frame['Latitude'] > 58] \n",
    "frame[['Longitude','Latitude']].describe(include='all')"
   ]
  },
  {
   "cell_type": "code",
   "execution_count": null,
   "metadata": {},
   "outputs": [],
   "source": [
    "cleaner.remove_outliers(test_frame)"
   ]
  },
  {
   "cell_type": "code",
   "execution_count": null,
   "metadata": {},
   "outputs": [],
   "source": [
    "frame = test_frame"
   ]
  },
  {
   "cell_type": "markdown",
   "metadata": {},
   "source": [
    "# Machine learning example"
   ]
  },
  {
   "cell_type": "code",
   "execution_count": null,
   "metadata": {},
   "outputs": [],
   "source": [
    "def cat(x):\n",
    "    if x <-1:\n",
    "        return \"Ahead of schedule\"\n",
    "    if x > 200:\n",
    "        return \"Very Delayed\"\n",
    "    if x > 100:\n",
    "        return \"Delayed\"\n",
    "    return \"On schedule\""
   ]
  },
  {
   "cell_type": "code",
   "execution_count": null,
   "metadata": {},
   "outputs": [],
   "source": []
  }
 ],
 "metadata": {
  "kernelspec": {
   "display_name": "Python 3",
   "language": "python",
   "name": "python3"
  },
  "language_info": {
   "codemirror_mode": {
    "name": "ipython",
    "version": 3
   },
   "file_extension": ".py",
   "mimetype": "text/x-python",
   "name": "python",
   "nbconvert_exporter": "python",
   "pygments_lexer": "ipython3",
   "version": "3.6.4"
  }
 },
 "nbformat": 4,
 "nbformat_minor": 2
}
