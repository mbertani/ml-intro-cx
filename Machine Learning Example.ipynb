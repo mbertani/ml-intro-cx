{
 "cells": [
  {
   "cell_type": "markdown",
   "metadata": {},
   "source": [
    "# Simple Machine Learning Example"
   ]
  },
  {
   "cell_type": "code",
   "execution_count": null,
   "metadata": {},
   "outputs": [],
   "source": [
    "from pprint import pprint\n",
    "from datetime import datetime, timedelta\n",
    "from DataCleaner import DataCleaner\n",
    "from read_json import loadData\n",
    "\n",
    "import pandas as pd\n",
    "import numpy as np\n",
    "\n",
    "import keras\n",
    "\n",
    "from keras.models import Sequential\n",
    "from keras.layers import Dense"
   ]
  },
  {
   "cell_type": "code",
   "execution_count": null,
   "metadata": {},
   "outputs": [],
   "source": [
    "pathToBlobs = \"data/random_one_day\"\n",
    "dicts = loadData(pathToBlobs)\n",
    "frame = pd.DataFrame(dicts)\n",
    "print(frame.shape)\n",
    "cleaner = DataCleaner()\n",
    "frame = cleaner.clean_data(frame)"
   ]
  },
  {
   "cell_type": "code",
   "execution_count": null,
   "metadata": {},
   "outputs": [],
   "source": [
    "batch_size = 8 # Number of rows to process before updating the weight\n",
    "num_classes = 4 # Number of delay categories [\"On schedule\",\"Delayed\",\"Very Delayed\",\"Ahead of schedule\"]\n",
    "epochs = 20 # How many full iterations through the dataset"
   ]
  },
  {
   "cell_type": "code",
   "execution_count": null,
   "metadata": {},
   "outputs": [],
   "source": [
    "frame_ml = frame.sample(frac=1) # Shuffle the data\n",
    "frame_ml = frame_ml[['Delay', 'Line', 'RecordedAtTime']]\n",
    "frame_ml = frame_ml.dropna()\n",
    "frame_ml['Line'].unique()"
   ]
  },
  {
   "cell_type": "markdown",
   "metadata": {},
   "source": [
    "## Converting continues delay to four categories"
   ]
  },
  {
   "cell_type": "code",
   "execution_count": null,
   "metadata": {},
   "outputs": [],
   "source": [
    "def delay_to_category(delay):\n",
    "    if delay <-1:\n",
    "        return \"Ahead of schedule\"\n",
    "    if delay > 200:\n",
    "        return \"Very Delayed\"\n",
    "    if delay > 100:\n",
    "        return \"Delayed\"\n",
    "    return \"On schedule\"\n",
    "\n",
    "frame_ml['Delay'] = frame_ml['Delay'].apply(lambda x: delay_to_category(x))\n",
    "frame_ml.head(10).T"
   ]
  },
  {
   "cell_type": "markdown",
   "metadata": {},
   "source": [
    "## Converting datetime"
   ]
  },
  {
   "cell_type": "code",
   "execution_count": null,
   "metadata": {},
   "outputs": [],
   "source": [
    "frame_ml['RecordedAtTime'] = frame_ml['RecordedAtTime'].astype(str).astype('datetime64[ns]')\n",
    "frame_ml['time_datetime'] = pd.to_datetime(frame['RecordedAtTime'])\n",
    "    \n",
    "frame_ml['Hour'] = frame_ml['time_datetime'].dt.hour\n",
    "frame_ml['Minute'] = frame_ml['time_datetime'].dt.minute\n",
    "\n",
    "frame_ml['Seconds'] = frame_ml['Hour'] * 60 * 60 + frame_ml['Minute'] * 60\n",
    "frame_ml['Seconds'] = frame_ml['Seconds'] / (24.0 * 60.0 * 60.0)\n",
    "\n",
    "frame_ml = frame_ml.drop(['time_datetime', 'RecordedAtTime', 'Hour','Minute'], 1)  # Removes the date and time columns"
   ]
  },
  {
   "cell_type": "markdown",
   "metadata": {},
   "source": [
    "## Converting IDs to one-hot encoding"
   ]
  },
  {
   "cell_type": "code",
   "execution_count": null,
   "metadata": {},
   "outputs": [],
   "source": [
    "categories = list(frame_ml['Line'].unique()) # Unique Lines\n",
    "categories.sort()\n",
    "frame_ml['Line'] = pd.Categorical(frame_ml['Line'],categories=categories,ordered=True) # Converts Line to category datatype\n",
    "x_train = pd.get_dummies(frame_ml,columns=['Line']) # One-hot encoding: One columns is transformend into one column for every possible value"
   ]
  },
  {
   "cell_type": "markdown",
   "metadata": {},
   "source": [
    "## Seperating input and output, and converting Delay"
   ]
  },
  {
   "cell_type": "code",
   "execution_count": null,
   "metadata": {},
   "outputs": [],
   "source": [
    "categories_y = list(frame_ml['Delay'].unique())\n",
    "categories_y.sort()\n",
    "\n",
    "# The Delay is seperated from the input and converted to one-hot encoding\n",
    "y_labels = (x_train.pop('Delay'))\n",
    "y_labels = pd.Categorical(y_labels,categories=categories_y,ordered=True)\n",
    "y_labels = pd.get_dummies(y_labels)"
   ]
  },
  {
   "cell_type": "code",
   "execution_count": null,
   "metadata": {},
   "outputs": [],
   "source": [
    "x_train.head() #Input"
   ]
  },
  {
   "cell_type": "code",
   "execution_count": null,
   "metadata": {},
   "outputs": [],
   "source": [
    "y_labels.head() # Output"
   ]
  },
  {
   "cell_type": "markdown",
   "metadata": {},
   "source": [
    "## Always convert from Pandas DataFrame to Numpy Array before using Keras and TensorFlow"
   ]
  },
  {
   "cell_type": "code",
   "execution_count": null,
   "metadata": {},
   "outputs": [],
   "source": [
    "x_train = np.array(x_train)\n",
    "y_labels = np.array(y_labels)"
   ]
  },
  {
   "cell_type": "markdown",
   "metadata": {},
   "source": [
    "## Model architecture"
   ]
  },
  {
   "cell_type": "code",
   "execution_count": null,
   "metadata": {},
   "outputs": [],
   "source": [
    "model = Sequential()\n",
    "model.add(Dense(300,activation='relu',input_shape=(x_train.shape[1],)))\n",
    "model.add(Dense(200,activation='relu'))\n",
    "model.add(Dense(100,activation='relu'))\n",
    "model.add(Dense(num_classes, activation='softmax'))\n",
    "model.summary()"
   ]
  },
  {
   "cell_type": "markdown",
   "metadata": {},
   "source": [
    "## Defining loss function"
   ]
  },
  {
   "cell_type": "code",
   "execution_count": null,
   "metadata": {},
   "outputs": [],
   "source": [
    "model.compile(loss=keras.losses.mean_squared_error, optimizer='sgd',\n",
    "              metrics=['accuracy'])"
   ]
  },
  {
   "cell_type": "markdown",
   "metadata": {},
   "source": [
    "## Training the model"
   ]
  },
  {
   "cell_type": "code",
   "execution_count": null,
   "metadata": {},
   "outputs": [],
   "source": [
    "model.fit(x_train, y_labels,\n",
    "          batch_size=batch_size,\n",
    "          epochs=epochs,\n",
    "          verbose=1,\n",
    "          validation_data=(x_train, y_labels))\n",
    "score = model.evaluate(x_train, y_labels, verbose=0)"
   ]
  },
  {
   "cell_type": "markdown",
   "metadata": {},
   "source": [
    "## Use the trained model to predict the delay"
   ]
  },
  {
   "cell_type": "code",
   "execution_count": null,
   "metadata": {},
   "outputs": [],
   "source": [
    "def show_delay_prediction(prediction, categories):\n",
    "    predicted = np.argmax(prediction)\n",
    "    print(\"Confidence:\")\n",
    "    for i in range(0, len(categories)):\n",
    "        line = \"    \"\n",
    "        if i == predicted:\n",
    "            line += \"* \"\n",
    "        else:\n",
    "            line += \"- \"\n",
    "        line += str(categories[i]) + \": \" + str(round(prediction[i]*100)) + \"%\"\n",
    "        print(line)"
   ]
  },
  {
   "cell_type": "code",
   "execution_count": null,
   "metadata": {},
   "outputs": [],
   "source": [
    "score = model.evaluate(x_train, y_labels, verbose=0)\n",
    "print('Test loss:', score[0])\n",
    "print('Test accuracy:', score[1])\n",
    "print(\" \")\n",
    "predictions = model.predict(x_train, verbose=1)"
   ]
  },
  {
   "cell_type": "code",
   "execution_count": null,
   "metadata": {},
   "outputs": [],
   "source": [
    "for p in range(0, 5):\n",
    "    print(\"Bus line \"+ str(frame.iloc[p].Line) + \" is at \" + str(timedelta(seconds=x_train[p][0]*(24.0 * 60.0 * 60.0))) + \" predicted to be \" + str(categories_y[np.argmax(predictions[p])]).lower())\n",
    "    show_delay_prediction(predictions[p],categories_y)\n",
    "    print(\" \")"
   ]
  },
  {
   "cell_type": "code",
   "execution_count": null,
   "metadata": {},
   "outputs": [],
   "source": []
  }
 ],
 "metadata": {
  "kernelspec": {
   "display_name": "Python 3",
   "language": "python",
   "name": "python3"
  },
  "language_info": {
   "codemirror_mode": {
    "name": "ipython",
    "version": 3
   },
   "file_extension": ".py",
   "mimetype": "text/x-python",
   "name": "python",
   "nbconvert_exporter": "python",
   "pygments_lexer": "ipython3",
   "version": "3.6.5"
  }
 },
 "nbformat": 4,
 "nbformat_minor": 2
}
