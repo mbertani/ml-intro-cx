{
 "cells": [
  {
   "cell_type": "markdown",
   "metadata": {},
   "source": [
    "# Welcome to Jupyter Lab\n",
    "\n",
    "In this notebook you will get acquainted with jupyter lab.\n",
    "\n",
    " - [Overview](http://jupyterlab.readthedocs.io/en/stable/getting_started/overview.html) What is this?\n",
    " - [Interface](http://jupyterlab.readthedocs.io/en/stable/user/interface.html) Where do I click?\n",
    " - [Notebooks](http://jupyterlab.readthedocs.io/en/stable/user/notebook.html) How do I work?\n",
    " \n",
    " \n",
    " After you have read the links above, you can start with the follwing notebooks:\n",
    " 1. [Running Code.ipynb](http://localhost:8888/lab/tree/Running%20Code.ipynb) How to interact with the notebook.\n",
    " 2. [intro-python.ipynb](http://localhost:8888/lab/tree/intro-python.ipynb) A short intro to python, if you have not played with it before.\n",
    " 3. [Start.ipynb](http://localhost:8888/lab/tree/Start.ipynb) Start the workshop.\n",
    " \n",
    " Want to dig deeper with notebooks? You can download the notebooks and save them in the local directory. Then you can try running them from here. We have only installed the Python 3 kernel, so you may encounter some problems with notebooks for Python 2.x\n",
    " - [A-gallery-of-interesting-Jupyter-Notebooks](https://github.com/jupyter/jupyter/wiki/A-gallery-of-interesting-Jupyter-Notebooks)\n",
    " - [Exploratory computing with Python](http://mbakker7.github.io/exploratory_computing_with_python/) (For Python 3)\n",
    " - [Data Science and Big Data with Python](https://github.com/phelps-sg/python-bigdata)\n",
    " - [Python 3 course](https://www.python-course.eu/python3_history_and_philosophy.php)\n"
   ]
  },
  {
   "cell_type": "code",
   "execution_count": null,
   "metadata": {},
   "outputs": [],
   "source": []
  }
 ],
 "metadata": {
  "kernelspec": {
   "display_name": "Python 3",
   "language": "python",
   "name": "python3"
  },
  "language_info": {
   "codemirror_mode": {
    "name": "ipython",
    "version": 3
   },
   "file_extension": ".py",
   "mimetype": "text/x-python",
   "name": "python",
   "nbconvert_exporter": "python",
   "pygments_lexer": "ipython3",
   "version": "3.6.4"
  }
 },
 "nbformat": 4,
 "nbformat_minor": 2
}
